{
 "cells": [
  {
   "cell_type": "code",
   "execution_count": null,
   "id": "ca8e9cb9-1a9e-44da-9a39-f04cca0fc934",
   "metadata": {},
   "outputs": [],
   "source": [
    "# MLP for Pima Indians Dataset with 10-fold cross validation via sklearn\n",
    "from keras.models import Sequential\n",
    "from keras.layers import Dense\n",
    "from scikeras.wrappers import KerasClassifier\n",
    "from sklearn.model_selection import StratifiedKFold\n",
    "from sklearn.model_selection import cross_val_score\n",
    "from sklearn.model_selection import GridSearchCV\n",
    "import numpy\n",
    "# Function to create model, required for KerasClassifier\n",
    "def create_model(optimizer= \"rmsprop\" , init= \"glorot_uniform\" ):\n",
    "    # create model\n",
    "    model = Sequential()\n",
    "    model.add(Dense(12, input_dim=8,kernel_initializer='uniform', activation='relu' ))\n",
    "    model.add(Dense(8, kernel_initializer= 'uniform' , activation= 'relu' ))\n",
    "    model.add(Dense(1, kernel_initializer= 'uniform' , activation= 'sigmoid' ))\n",
    "    # Compile model\n",
    "    model.compile(loss= \"binary_crossentropy\" , optimizer= \"adam\" , metrics=[ \"accuracy\" ])\n",
    "    return model\n",
    "# fix random seed for reproducibility\n",
    "seed = 7\n",
    "numpy.random.seed(seed)\n",
    "# load pima indians dataset\n",
    "dataset = numpy.genfromtxt(\"../diabetes.csv\", delimiter=\",\")\n",
    "# split into input (X) and output (Y) variables\n",
    "X = dataset[1:,0:8]\n",
    "Y = dataset[1:,8]\n",
    "\n",
    "# create model\n",
    "model = KerasClassifier(init=\"glorot_uniform\",model=create_model, verbose=0)\n",
    "# grid search epochs, batch size and optimizer\n",
    "optimizers = [ \"rmsprop\" , \"adam\" ]\n",
    "init = [ \"glorot_uniform\" , \"normal\" , \"uniform\" ]\n",
    "epochs = numpy.array([50, 100, 150])\n",
    "batches = numpy.array([5, 10, 20])\n",
    "param_grid = dict(optimizer=optimizers, epochs=epochs, batch_size=batches, init=init)\n",
    "grid = GridSearchCV(estimator=model, param_grid=param_grid)\n",
    "grid_result = grid.fit(X, Y)\n",
    "# summarize results\n",
    "print(\"Best: %f using %s\" % (grid_result.best_score_, grid_result.best_params_))\n",
    "for params, mean_score, scores in grid_result.grid_scores_:\n",
    "    print(\"%f (%f) with: %r\" % (scores.mean(), scores.std(), params))"
   ]
  },
  {
   "cell_type": "code",
   "execution_count": null,
   "id": "fb5695a2-dca3-4079-aecd-53b24ada417f",
   "metadata": {},
   "outputs": [],
   "source": []
  }
 ],
 "metadata": {
  "kernelspec": {
   "display_name": "Python 3 (ipykernel)",
   "language": "python",
   "name": "python3"
  },
  "language_info": {
   "codemirror_mode": {
    "name": "ipython",
    "version": 3
   },
   "file_extension": ".py",
   "mimetype": "text/x-python",
   "name": "python",
   "nbconvert_exporter": "python",
   "pygments_lexer": "ipython3",
   "version": "3.11.6"
  }
 },
 "nbformat": 4,
 "nbformat_minor": 5
}
